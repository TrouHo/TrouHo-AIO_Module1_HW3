{
  "nbformat": 4,
  "nbformat_minor": 0,
  "metadata": {
    "colab": {
      "provenance": [],
      "authorship_tag": "ABX9TyP7n2WcZXeq/+emcRpvviyz",
      "include_colab_link": true
    },
    "kernelspec": {
      "name": "python3",
      "display_name": "Python 3"
    },
    "language_info": {
      "name": "python"
    }
  },
  "cells": [
    {
      "cell_type": "markdown",
      "metadata": {
        "id": "view-in-github",
        "colab_type": "text"
      },
      "source": [
        "<a href=\"https://colab.research.google.com/github/TrouHo/TrouHo-AIO_Module1_HW3/blob/main/HW_3_Ex2ipynb.ipynb\" target=\"_parent\"><img src=\"https://colab.research.google.com/assets/colab-badge.svg\" alt=\"Open In Colab\"/></a>"
      ]
    },
    {
      "cell_type": "code",
      "source": [],
      "metadata": {
        "id": "cQqSmbkbY-nw"
      },
      "execution_count": null,
      "outputs": []
    },
    {
      "cell_type": "code",
      "source": [
        "#part and b\n",
        "\n",
        "from abc import ABC, abstractclassmethod\n",
        "\n",
        "class Person:\n",
        "    def __init__(self, name, yob):\n",
        "        self.name = name\n",
        "        self.yob = yob\n",
        "\n",
        "    def describe(self):\n",
        "        return f\"Name: {self.name}, Year of Birth: {self.yob}\"\n",
        "\n",
        "    def age(self): # Add an age method to calculate age from year of birth\n",
        "        from datetime import date\n",
        "        current_year = date.today().year\n",
        "        return current_year - self.yob\n",
        "\n",
        "class Student(Person):\n",
        "    def __init__(self, name, yob, grade):\n",
        "        super().__init__(name, yob)\n",
        "        self.grade = grade\n",
        "\n",
        "    def describe(self):\n",
        "        return f\"{super().describe()}, Grade: {self.grade}\"\n",
        "\n",
        "class Teacher(Person):\n",
        "    def __init__(self, name, yob, subject):\n",
        "        super().__init__(name, yob)\n",
        "        self.subject = subject\n",
        "\n",
        "    def describe(self):\n",
        "        return f\"{super().describe()}, Subject: {self.subject}\"\n",
        "\n",
        "class Doctor(Person):\n",
        "    def __init__(self, name, yob, specialist):\n",
        "        super().__init__(name, yob)\n",
        "        self.specialist = specialist\n",
        "\n",
        "    def describe(self):\n",
        "        return f\"{super().describe()}, Specialist: {self.specialist}\"\n",
        "\n",
        "class Ward:\n",
        "    def __init__(self, name):\n",
        "        self.name = name\n",
        "        self.people = []\n",
        "\n",
        "    def add_person(self, person):\n",
        "        self.people.append(person)\n",
        "\n",
        "    def describe(self):\n",
        "        print(f\"Ward Name: {self.name}\")\n",
        "        for person in self.people:\n",
        "            print(person.describe())\n",
        "\n",
        "    def count_doctor(self):\n",
        "        return sum(1 for person in self.people if isinstance(person, Doctor))\n",
        "\n",
        "    def sort_age(self):\n",
        "        self.people.sort(key=lambda person: person.age())\n",
        "\n",
        "    def compute_average(self):\n",
        "        teachers = [person for person in self.people if isinstance(person, Teacher)]\n",
        "        if not teachers:\n",
        "            return None\n",
        "        total_yob = sum(teacher.yob for teacher in teachers)\n",
        "        return total_yob / len(teachers)\n",
        "\n",
        "ward = Ward(\"Ward CauGiay\")\n",
        "ward.add_person(Student(\"Minh Anh\", 2005, \"C\"))\n",
        "ward.add_person(Teacher(\"Hao Minh\", 1980, \"Toan\"))\n",
        "ward.add_person(Teacher(\"Ha Anh\", 1985, \"Tienganh\"))\n",
        "ward.add_person(Doctor(\"Dr.Chau\", 1970, \"Tim\"))\n",
        "ward.add_person(Doctor(\"Dr.Tuan\", 1973, \"Nao\"))\n",
        "#part c\n",
        "ward.describe()\n",
        "print(f\"Number of doctors in the ward: {ward.count_doctor()}\")\n",
        "#part d\n",
        "print(\"Before sorting by age:\")\n",
        "ward.describe()\n",
        "ward.sort_age()\n",
        "print(\"\\nAfter sorting by age:\")\n",
        "ward.describe()\n",
        "#part e\n",
        "print(\"Average year of birth of teachers in the ward:\", ward.compute_average())\n"
      ],
      "metadata": {
        "colab": {
          "base_uri": "https://localhost:8080/"
        },
        "id": "ce3gmQDAbbXK",
        "outputId": "ba2dec27-c2d3-46f1-d3fd-49b48341918c"
      },
      "execution_count": null,
      "outputs": [
        {
          "output_type": "stream",
          "name": "stdout",
          "text": [
            "Ward Name: Ward CauGiay\n",
            "Name: Minh Anh, Year of Birth: 2005, Grade: C\n",
            "Name: Hao Minh, Year of Birth: 1980, Subject: Toan\n",
            "Name: Ha Anh, Year of Birth: 1985, Subject: Tienganh\n",
            "Name: Dr.Chau, Year of Birth: 1970, Specialist: Tim\n",
            "Name: Dr.Tuan, Year of Birth: 1973, Specialist: Nao\n",
            "Number of doctors in the ward: 2\n",
            "Before sorting by age:\n",
            "Ward Name: Ward CauGiay\n",
            "Name: Minh Anh, Year of Birth: 2005, Grade: C\n",
            "Name: Hao Minh, Year of Birth: 1980, Subject: Toan\n",
            "Name: Ha Anh, Year of Birth: 1985, Subject: Tienganh\n",
            "Name: Dr.Chau, Year of Birth: 1970, Specialist: Tim\n",
            "Name: Dr.Tuan, Year of Birth: 1973, Specialist: Nao\n",
            "\n",
            "After sorting by age:\n",
            "Ward Name: Ward CauGiay\n",
            "Name: Minh Anh, Year of Birth: 2005, Grade: C\n",
            "Name: Ha Anh, Year of Birth: 1985, Subject: Tienganh\n",
            "Name: Hao Minh, Year of Birth: 1980, Subject: Toan\n",
            "Name: Dr.Tuan, Year of Birth: 1973, Specialist: Nao\n",
            "Name: Dr.Chau, Year of Birth: 1970, Specialist: Tim\n",
            "Average year of birth of teachers in the ward: 1982.5\n"
          ]
        }
      ]
    },
    {
      "cell_type": "code",
      "source": [],
      "metadata": {
        "id": "TFzN_Kt7Z5pB"
      },
      "execution_count": null,
      "outputs": []
    }
  ]
}