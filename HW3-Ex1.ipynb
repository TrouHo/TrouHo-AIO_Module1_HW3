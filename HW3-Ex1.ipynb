{
  "nbformat": 4,
  "nbformat_minor": 0,
  "metadata": {
    "colab": {
      "provenance": [],
      "authorship_tag": "ABX9TyO3CBuijePO6/4uCVPI6Z/m",
      "include_colab_link": true
    },
    "kernelspec": {
      "name": "python3",
      "display_name": "Python 3"
    },
    "language_info": {
      "name": "python"
    }
  },
  "cells": [
    {
      "cell_type": "markdown",
      "metadata": {
        "id": "view-in-github",
        "colab_type": "text"
      },
      "source": [
        "<a href=\"https://colab.research.google.com/github/TrouHo/TrouHo-AIO_Module1_HW3/blob/main/HW3-Ex1.ipynb\" target=\"_parent\"><img src=\"https://colab.research.google.com/assets/colab-badge.svg\" alt=\"Open In Colab\"/></a>"
      ]
    },
    {
      "cell_type": "code",
      "execution_count": 1,
      "metadata": {
        "colab": {
          "base_uri": "https://localhost:8080/"
        },
        "id": "UL5IecbydCnP",
        "outputId": "06cfaa87-c4cc-4da8-cdff-a972d0743520"
      },
      "outputs": [
        {
          "output_type": "stream",
          "name": "stdout",
          "text": [
            "Softmax: tensor([0.2535, 0.2959, 0.4506])\n",
            "Softmax Stable: tensor([0.2535, 0.2959, 0.4506])\n"
          ]
        }
      ],
      "source": [
        "import torch\n",
        "import torch.nn as nn\n",
        "import torch.nn.functional as F\n",
        "\n",
        "class Softmax(nn.Module):\n",
        "    def __init__(self):\n",
        "        super(Softmax, self).__init__()\n",
        "\n",
        "    def forward(self, x):\n",
        "        exp_x = torch.exp(x)\n",
        "        sum_exp_x = torch.sum(exp_x)\n",
        "        return exp_x / sum_exp_x\n",
        "\n",
        "class SoftmaxStable(nn.Module):\n",
        "    def __init__(self):\n",
        "        super(SoftmaxStable, self).__init__()\n",
        "\n",
        "    def forward(self, x):\n",
        "        c = torch.max(x)\n",
        "        exp_x = torch.exp(x - c)\n",
        "        sum_exp_x = torch.sum(exp_x)\n",
        "        return exp_x / sum_exp_x\n",
        "\n",
        "x = torch.tensor([0.0900 , 0.2447 , 0.6652])\n",
        "\n",
        "softmax = Softmax()\n",
        "softmax_stable = SoftmaxStable()\n",
        "\n",
        "print(\"Softmax:\", softmax(x))\n",
        "print(\"Softmax Stable:\", softmax_stable(x))\n"
      ]
    }
  ]
}