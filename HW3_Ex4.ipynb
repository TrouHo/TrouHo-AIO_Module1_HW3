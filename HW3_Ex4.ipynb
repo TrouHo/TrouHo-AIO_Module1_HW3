{
  "nbformat": 4,
  "nbformat_minor": 0,
  "metadata": {
    "colab": {
      "provenance": [],
      "authorship_tag": "ABX9TyOjE0/C2ZK5nCkd2VYOQ94P",
      "include_colab_link": true
    },
    "kernelspec": {
      "name": "python3",
      "display_name": "Python 3"
    },
    "language_info": {
      "name": "python"
    }
  },
  "cells": [
    {
      "cell_type": "markdown",
      "metadata": {
        "id": "view-in-github",
        "colab_type": "text"
      },
      "source": [
        "<a href=\"https://colab.research.google.com/github/TrouHo/TrouHo-AIO_Module1_HW3/blob/main/HW3_Ex4.ipynb\" target=\"_parent\"><img src=\"https://colab.research.google.com/assets/colab-badge.svg\" alt=\"Open In Colab\"/></a>"
      ]
    },
    {
      "cell_type": "code",
      "execution_count": 2,
      "metadata": {
        "colab": {
          "base_uri": "https://localhost:8080/"
        },
        "id": "n5Agm2IBeHyh",
        "outputId": "5bd7ec71-11e9-4953-f383-33246ebe2031"
      },
      "outputs": [
        {
          "output_type": "stream",
          "name": "stdout",
          "text": [
            "True\n",
            "5\n",
            "5\n",
            "4\n",
            "4\n",
            "False\n"
          ]
        }
      ],
      "source": [
        "class Stack:\n",
        "    def __init__(self, capacity):\n",
        "        self.capacity = capacity\n",
        "        self.stack = []\n",
        "\n",
        "    def is_empty(self):\n",
        "        return len(self.stack) == 0\n",
        "\n",
        "    def is_full(self):\n",
        "        return len(self.stack) == self.capacity\n",
        "\n",
        "    def pop(self):\n",
        "        if self.is_empty():\n",
        "            raise IndexError(\"pop from empty stack\")\n",
        "        return self.stack.pop()\n",
        "\n",
        "    def push(self, value):\n",
        "        if self.is_full():\n",
        "            raise IndexError(\"push to full stack\")\n",
        "        self.stack.append(value)\n",
        "\n",
        "    def top(self):\n",
        "        if self.is_empty():\n",
        "            raise IndexError(\"top from empty stack\")\n",
        "        return self.stack[-1]\n",
        "\n",
        "stack = Stack(5)\n",
        "\n",
        "stack.push(1)\n",
        "stack.push(2)\n",
        "stack.push(3)\n",
        "stack.push(4)\n",
        "stack.push(5)\n",
        "\n",
        "print (stack.is_full () )\n",
        "print (stack.top () )\n",
        "print (stack.pop () )\n",
        "print (stack.top () )\n",
        "print (stack.pop () )\n",
        "print (stack.is_empty () )\n"
      ]
    }
  ]
}