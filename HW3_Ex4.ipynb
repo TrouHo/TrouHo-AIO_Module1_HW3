{
  "nbformat": 4,
  "nbformat_minor": 0,
  "metadata": {
    "colab": {
      "provenance": [],
      "authorship_tag": "ABX9TyOnFnaftESu5MnaoJiiuPoi",
      "include_colab_link": true
    },
    "kernelspec": {
      "name": "python3",
      "display_name": "Python 3"
    },
    "language_info": {
      "name": "python"
    }
  },
  "cells": [
    {
      "cell_type": "markdown",
      "metadata": {
        "id": "view-in-github",
        "colab_type": "text"
      },
      "source": [
        "<a href=\"https://colab.research.google.com/github/TrouHo/TrouHo-AIO_Module1_HW3/blob/main/HW3_Ex4.ipynb\" target=\"_parent\"><img src=\"https://colab.research.google.com/assets/colab-badge.svg\" alt=\"Open In Colab\"/></a>"
      ]
    },
    {
      "cell_type": "code",
      "execution_count": 2,
      "metadata": {
        "colab": {
          "base_uri": "https://localhost:8080/"
        },
        "id": "_DgF7VlDe33l",
        "outputId": "fa860b53-ffe9-451c-a9ed-5a8a08e16206"
      },
      "outputs": [
        {
          "output_type": "stream",
          "name": "stdout",
          "text": [
            "False\n",
            "1\n",
            "1\n",
            "2\n",
            "2\n",
            "True\n"
          ]
        }
      ],
      "source": [
        "class Queue:\n",
        "    def __init__(self, capacity):\n",
        "        self.capacity = capacity\n",
        "        self.queue = []\n",
        "\n",
        "    def is_empty(self):\n",
        "        return len(self.queue) == 0\n",
        "\n",
        "    def is_full(self):\n",
        "        return len(self.queue) == self.capacity\n",
        "\n",
        "    def dequeue(self):\n",
        "        if self.is_empty():\n",
        "            return \"Queue is empty\"\n",
        "        return self.queue.pop(0)\n",
        "\n",
        "    def enqueue(self, value):\n",
        "        if self.is_full():\n",
        "            return \"Queue is full\"\n",
        "        self.queue.append(value)\n",
        "\n",
        "    def front(self):\n",
        "        if self.is_empty():\n",
        "            return \"Queue is empty\"\n",
        "        return self.queue[0]\n",
        "\n",
        "queue1 = Queue ( capacity =5)\n",
        "queue1 . enqueue (1)\n",
        "queue1 . enqueue (2)\n",
        "print ( queue1 . is_full () )\n",
        "print ( queue1 . front () )\n",
        "print ( queue1 . dequeue () )\n",
        "print ( queue1 . front () )\n",
        "print ( queue1 . dequeue () )\n",
        "print ( queue1 . is_empty () )\n",
        "\n"
      ]
    }
  ]
}